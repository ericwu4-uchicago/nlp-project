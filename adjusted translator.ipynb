{
 "cells": [
  {
   "cell_type": "code",
   "execution_count": null,
   "id": "2d625537",
   "metadata": {},
   "outputs": [],
   "source": [
    "#https://medium.com/@tskumar1320/how-to-fine-tune-pre-trained-language-translation-model-3e8a6aace9f extensively used\n",
    "#https://saturncloud.io/blog/how-to-use-huggingfaces-t5-model-for-translation-tasks-a-comprehensive-guide/ t5 guide\n",
    "#https://towardsdatascience.com/how-to-adapt-a-multilingual-t5-model-for-a-single-language-b9f94f3d9c90 t5 guide better\n",
    "! protoc --python_out=. sentencepiece_model.proto"
   ]
  },
  {
   "cell_type": "code",
   "execution_count": 2,
   "id": "9fb17860",
   "metadata": {},
   "outputs": [
    {
     "name": "stderr",
     "output_type": "stream",
     "text": [
      "'wget' is not recognized as an internal or external command,\n",
      "operable program or batch file.\n"
     ]
    }
   ],
   "source": [
    "! wget https://raw.githubusercontent.com/google/sentencepiece/master/src/sentencepiece_model.proto"
   ]
  },
  {
   "cell_type": "code",
   "execution_count": 32,
   "id": "e87f2994",
   "metadata": {},
   "outputs": [
    {
     "name": "stdout",
     "output_type": "stream",
     "text": [
      "{'input_ids': [[30273, 261, 714, 1371, 259, 98923, 309, 1], [1494, 339, 259, 7845, 259, 98923, 260, 1]], 'attention_mask': [[1, 1, 1, 1, 1, 1, 1, 1], [1, 1, 1, 1, 1, 1, 1, 1]]}\n"
     ]
    }
   ],
   "source": [
    "with tokenizer.as_target_tokenizer():\n",
    "    print(tokenizer([\"Hello, this one sentence!\", \"This is another sentence.\"]))"
   ]
  },
  {
   "cell_type": "code",
   "execution_count": 4,
   "id": "27766dc0",
   "metadata": {},
   "outputs": [
    {
     "name": "stdout",
     "output_type": "stream",
     "text": [
      "4.24.0\n"
     ]
    }
   ],
   "source": [
    "print(transformers.__version__)\n",
    "#below options for wandb\n"
   ]
  },
  {
   "cell_type": "code",
   "execution_count": 1,
   "id": "639b8860",
   "metadata": {},
   "outputs": [],
   "source": [
    "import os\n",
    "#os.environ[\"WANDB_DISABLED\"]=\"true\" "
   ]
  },
  {
   "cell_type": "code",
   "execution_count": 2,
   "id": "8b8c9df9",
   "metadata": {},
   "outputs": [],
   "source": [
    "#imports section\n",
    "import transformers\n",
    "from datasets import load_dataset, load_metric\n",
    "import datasets\n",
    "import random\n",
    "import pandas as pd\n",
    "from IPython.display import display, HTML\n",
    "from transformers import DataCollatorForSeq2Seq,AutoTokenizer, AutoModelForSeq2SeqLM, Seq2SeqTrainingArguments, Seq2SeqTrainer\n",
    "import numpy as np\n",
    "import codecs\n",
    "from datasets.dataset_dict import DatasetDict\n",
    "from datasets import Dataset\n",
    "from transformers import T5ForConditionalGeneration, T5Tokenizer\n",
    "import csv\n",
    "from collections import Counter\n",
    "from tqdm.auto import tqdm, trange\n",
    "import torch"
   ]
  },
  {
   "cell_type": "code",
   "execution_count": 3,
   "id": "38931bf6",
   "metadata": {},
   "outputs": [
    {
     "name": "stderr",
     "output_type": "stream",
     "text": [
      "C:\\Users\\ewu15\\AppData\\Local\\Temp\\ipykernel_13088\\2062494887.py:3: FutureWarning: load_metric is deprecated and will be removed in the next major version of datasets. Use 'evaluate.load' instead, from the new library 🤗 Evaluate: https://huggingface.co/docs/evaluate\n",
      "  metric = load_metric(\"sacrebleu\")\n"
     ]
    }
   ],
   "source": [
    "#raw_datasets = load_dataset(\"wmt16\", \"ro-en\") this ds 404s so likely isn't there\n",
    "#we probably will want to use our own ds anyways\n",
    "metric = load_metric(\"sacrebleu\")"
   ]
  },
  {
   "cell_type": "code",
   "execution_count": 4,
   "id": "df74ae9b",
   "metadata": {},
   "outputs": [],
   "source": [
    "tokenizer = AutoTokenizer.from_pretrained(\"Helsinki-NLP/opus-mt-ru-en\")\n",
    "model = AutoModelForSeq2SeqLM.from_pretrained(\"Helsinki-NLP/opus-mt-ru-en\") \n",
    "#we kind of hope that the vocab is diverse enough. also that our untranslated texts are ok enough\n",
    "model_checkpoint = \"Helsinki-NLP/opus-mt-ru-en\""
   ]
  },
  {
   "cell_type": "code",
   "execution_count": 58,
   "id": "3a8be6df",
   "metadata": {},
   "outputs": [
    {
     "name": "stderr",
     "output_type": "stream",
     "text": [
      "C:\\Users\\ewu15\\anaconda3\\lib\\site-packages\\transformers\\generation_utils.py:1359: UserWarning: Neither `max_length` nor `max_new_tokens` has been set, `max_length` will default to 512 (`self.config.max_length`). Controlling `max_length` via the config is deprecated and `max_length` will be removed from the config in v5 of Transformers -- we recommend using `max_new_tokens` to control the maximum length of the generation.\n",
      "  warnings.warn(\n"
     ]
    },
    {
     "data": {
      "text/plain": [
       "[\"And faith — not faith — I don't know what it is, but the feeling of it has also gone unnoticed and firmly inside the soul.\"]"
      ]
     },
     "execution_count": 58,
     "metadata": {},
     "output_type": "execute_result"
    }
   ],
   "source": [
    "src_text = ['А вера — не вера — я не знаю, что это такое, — но чувство это так же незаметно вошло страданиями и твердо засело в душе.']\n",
    "translated = model.generate(**tokenizer(src_text, return_tensors=\"pt\", padding=True))\n",
    "[tokenizer.decode(t, skip_special_tokens=True) for t in translated]"
   ]
  },
  {
   "cell_type": "code",
   "execution_count": 5,
   "id": "f68912ac",
   "metadata": {},
   "outputs": [],
   "source": [
    "def parsefile(directory, filename, outdir):\n",
    "    file = open(f\"{directory}/{filename}\", encoding=\"utf8\")\n",
    "    txt = file.read()\n",
    "    file.close() \n",
    "    split = txt.split(\".\")\n",
    "    output = codecs.open(f\"{outdir}/{filename}\", 'a', \"utf-8\")\n",
    "    #we can read and split very quickly but the tokenizer doesn't appreciate massive inputs\n",
    "    for i in range(int(len(split) / 20)):\n",
    "        cut = split[i * 20 : i * 20 + 20]\n",
    "        tokens = tokenizer(cut, return_tensors=\"pt\", padding=True, max_length=max_input_length, truncation=True)\n",
    "        translated = model.generate(**tokens)\n",
    "        #translation = [tokenizer.decode(t, skip_special_tokens=True) for t in translated]\n",
    "        for t in translated:\n",
    "            translation = tokenizer.decode(t, skip_special_tokens=True)\n",
    "            output.write(translation + \"\\n\")\n",
    "    if (len(split) % 20 != 0):\n",
    "        last = int(len(split) / 20)\n",
    "        cut = split[last * 20 :]\n",
    "        tokens = tokenizer(cut, return_tensors=\"pt\", padding=True, max_length=max_input_length, truncation=True)\n",
    "        translated = model.generate(**tokens)\n",
    "        for t in translated:\n",
    "            translation = tokenizer.decode(t, skip_special_tokens=True)\n",
    "            output.write(translation + \"\\n\")\n",
    "    output.close()"
   ]
  },
  {
   "cell_type": "code",
   "execution_count": 16,
   "id": "a7267f9c",
   "metadata": {},
   "outputs": [],
   "source": [
    "#https://stackoverflow.com/questions/10377998/how-can-i-iterate-over-files-in-a-given-directory\n",
    "max_input_length = 128\n",
    "directory = \"russian short stories 2\"#\"russian short stories\"\n",
    "#directory = \"test translation\"\n",
    "files = [\"Фокус великого кино averchenko.txt\"]\n",
    "#for file in os.listdir(directory):\n",
    "for file in files:\n",
    "    filename = os.fsdecode(file)\n",
    "    if filename.endswith(\".txt\"):\n",
    "        parsefile(directory, filename, \"init translations\")"
   ]
  },
  {
   "cell_type": "code",
   "execution_count": 68,
   "id": "fd8941e0",
   "metadata": {},
   "outputs": [],
   "source": [
    "prefix = \"\"\n",
    "max_input_length = 128\n",
    "max_target_length = 128\n",
    "source_lang = \"ru\"\n",
    "target_lang = \"en\"\n",
    "def preprocess_function(examples):\n",
    "    inputs = [prefix + ex[source_lang] for ex in examples[\"translation\"]]\n",
    "    targets = [ex[target_lang] for ex in examples[\"translation\"]]\n",
    "    #pure dictionary version\n",
    "    #inputs = [prefix + ex[\"translation\"][source_lang] for ex in examples]\n",
    "    #targets = [ex[\"translation\"][target_lang] for ex in examples]\n",
    "    model_inputs = tokenizer(inputs, max_length=max_input_length, truncation=True)\n",
    "    # Setup the tokenizer for targets\n",
    "    with tokenizer.as_target_tokenizer():\n",
    "        labels = tokenizer(targets, max_length=max_target_length, truncation=True)\n",
    "    model_inputs[\"labels\"] = labels[\"input_ids\"]\n",
    "    return model_inputs\n",
    "#as_target_tokenizer` is deprecated and will be removed in v5 of Transformers. \n",
    "#You can tokenize your labels by using the argument `text_target` of the regular `__call__` method \n",
    "#(either in the same call as your input texts if you use the same keyword arguments, or in a separate call."
   ]
  },
  {
   "cell_type": "code",
   "execution_count": 84,
   "id": "d377a2af",
   "metadata": {},
   "outputs": [],
   "source": [
    "raw_datasets = {}\n",
    "train_entries = []\n",
    "entry = {}\n",
    "translation = {}\n",
    "pairs = [[\"crime and punishment ru.txt\", \"crime and punishment constance garnett.txt\"], \n",
    "         [\"the brothers karamazov ru.txt\", \"the brothers karamazov constance garnett.txt\"]]\n",
    "pairs = [[\"rutest.txt\", \"engtest.txt\"]]##\n",
    "pairs = [[\"ruvalid.txt\", \"engvalid.txt\"]]##\n",
    "for combination in pairs:\n",
    "    first_loc = combination[0]\n",
    "    second_loc = combination[1]\n",
    "    f = codecs.open(first_loc,\"r\",encoding='utf-8')\n",
    "    #read the file to unicode string\n",
    "    rutrain = f.read()\n",
    "    f.close()\n",
    "    f = codecs.open(second_loc,\"r\",encoding='utf-8')\n",
    "    entrain = f.read()\n",
    "    f.close()\n",
    "    translation[\"ru\"] = rutrain\n",
    "    translation[\"en\"] = entrain\n",
    "    #entry['translation'] = translation\n",
    "    entry = translation\n",
    "    train_entries.append(entry)\n",
    "#entry['translation'] = train_entries\n",
    "raw_datasets[\"train\"] = train_entries\n",
    "#the good news is that this does work\n",
    "#the bad news is that we need to match next from russian and english\n",
    "#that is beyond my skill set"
   ]
  },
  {
   "cell_type": "code",
   "execution_count": 85,
   "id": "483bce2f",
   "metadata": {},
   "outputs": [],
   "source": [
    "first_loc = \"rutest.txt\"#\"ruvalid.txt\"\n",
    "second_loc = \"engtest.txt\"#\"engvalid.txt\"\n",
    "f = codecs.open(first_loc,\"r\",encoding='utf-8')\n",
    "rutext = f.read()\n",
    "f.close()\n",
    "f = codecs.open(second_loc,\"r\",encoding='utf-8')\n",
    "entext = f.read()\n",
    "f.close()\n",
    "#anna karenina has several parts each with chapters en prefaced by chapter 1 while russian is in roman numerals\n",
    "#we try to send both as entire batches for now?\n",
    "#raw_datasets = {}\n",
    "valid_entries = []\n",
    "entry = {}\n",
    "translation = {}\n",
    "translation[\"ru\"] = rutext\n",
    "translation[\"en\"] = entext\n",
    "#entry['translation'] = translation\n",
    "entry = translation\n",
    "valid_entries.append(entry)\n",
    "#entry['translation'] = train_entries\n",
    "raw_datasets[\"validation\"] = valid_entries\n",
    "#https://stackoverflow.com/questions/67852880/how-can-i-handle-this-datasets-to-create-a-datasetdict"
   ]
  },
  {
   "cell_type": "markdown",
   "id": "8349baf2",
   "metadata": {},
   "source": [
    "dataset should be: not just a dict\n",
    "DatasetDict({\n",
    "    train: Dataset({\n",
    "        features: ['translation', 'input_ids', 'attention_mask', 'labels'],\n",
    "        num_rows: 610320\n",
    "    })\n",
    "    validation: Dataset({\n",
    "        features: ['translation', 'input_ids', 'attention_mask', 'labels'],\n",
    "        num_rows: 1999\n",
    "    })\n",
    "    test: Dataset({\n",
    "        features: ['translation', 'input_ids', 'attention_mask', 'labels'],\n",
    "        num_rows: 1999\n",
    "    })\n",
    "})\n"
   ]
  },
  {
   "cell_type": "code",
   "execution_count": 86,
   "id": "a65f632d",
   "metadata": {},
   "outputs": [
    {
     "data": {
      "application/vnd.jupyter.widget-view+json": {
       "model_id": "bd0630ce1f4d4c9d8ccf3db7b3487c38",
       "version_major": 2,
       "version_minor": 0
      },
      "text/plain": [
       "Map:   0%|          | 0/1 [00:00<?, ? examples/s]"
      ]
     },
     "metadata": {},
     "output_type": "display_data"
    },
    {
     "data": {
      "application/vnd.jupyter.widget-view+json": {
       "model_id": "e02080e2cfc741e5947fdf3ddb5fd77c",
       "version_major": 2,
       "version_minor": 0
      },
      "text/plain": [
       "Map:   0%|          | 0/1 [00:00<?, ? examples/s]"
      ]
     },
     "metadata": {},
     "output_type": "display_data"
    }
   ],
   "source": [
    "d = {'train':Dataset.from_dict({'translation':train_entries}),\n",
    "     'validation':Dataset.from_dict({'translation':valid_entries})\n",
    "     }\n",
    "#,'test':Dataset.from_dict({'label':y_test,'text':x_test})   ,'text':\"fake\"}\n",
    "testdict = DatasetDict(d)\n",
    "#print(testdict)\n",
    "#print(testdict[\"train\"][0]['translation']['ru'])#['translation'])#[0]['ru'][:55])#[0]['ru'][:55])\n",
    "#print(testdict['translation'])\n",
    "tokenized_datasets = testdict.map(preprocess_function, batched=True)\n",
    "#tokenized_datasets = preprocess_function(raw_datasets)"
   ]
  },
  {
   "cell_type": "code",
   "execution_count": 87,
   "id": "281ed912",
   "metadata": {},
   "outputs": [
    {
     "name": "stderr",
     "output_type": "stream",
     "text": [
      "PyTorch: setting up devices\n",
      "The default value for the training argument `--report_to` will change in v5 (from all installed integrations to none). In v5, you will need to use `--report_to all` to get the same behavior as now. You should start updating your code and make this info disappear :-).\n"
     ]
    }
   ],
   "source": [
    "batch_size = 16\n",
    "model_name = model_checkpoint.split(\"/\")[-1]\n",
    "args = Seq2SeqTrainingArguments(\n",
    "    f\"{model_name}-finetuned-{source_lang}-to-{target_lang}\",\n",
    "    evaluation_strategy = \"epoch\",\n",
    "    learning_rate=2e-5,\n",
    "    per_device_train_batch_size=batch_size,\n",
    "    per_device_eval_batch_size=batch_size,\n",
    "    weight_decay=0.01,\n",
    "    save_total_limit=3,\n",
    "    num_train_epochs=1,\n",
    "    predict_with_generate=True    \n",
    ")"
   ]
  },
  {
   "cell_type": "code",
   "execution_count": 88,
   "id": "93552360",
   "metadata": {},
   "outputs": [],
   "source": [
    "data_collator = DataCollatorForSeq2Seq(tokenizer, model=model)"
   ]
  },
  {
   "cell_type": "code",
   "execution_count": 74,
   "id": "df1d32e1",
   "metadata": {},
   "outputs": [],
   "source": [
    "def postprocess_text(preds, labels):\n",
    "    preds = [pred.strip() for pred in preds]\n",
    "    labels = [[label.strip()] for label in labels]\n",
    "    return preds, labels\n",
    "def compute_metrics(eval_preds):\n",
    "    preds, labels = eval_preds\n",
    "    if isinstance(preds, tuple):\n",
    "        preds = preds[0]\n",
    "    decoded_preds = tokenizer.batch_decode(preds, skip_special_tokens=True)\n",
    "    # Replace -100 in the labels as we can't decode them.\n",
    "    labels = np.where(labels != -100, labels, tokenizer.pad_token_id)\n",
    "    decoded_labels = tokenizer.batch_decode(labels, skip_special_tokens=True)\n",
    "    # Some simple post-processing\n",
    "    decoded_preds, decoded_labels = postprocess_text(decoded_preds, decoded_labels)\n",
    "    result = metric.compute(predictions=decoded_preds, references=decoded_labels)\n",
    "    result = {\"bleu\": result[\"score\"]}\n",
    "    prediction_lens = [np.count_nonzero(pred != tokenizer.pad_token_id) for pred in preds]\n",
    "    result[\"gen_len\"] = np.mean(prediction_lens)\n",
    "    result = {k: round(v, 4) for k, v in result.items()}\n",
    "    return result"
   ]
  },
  {
   "cell_type": "code",
   "execution_count": 82,
   "id": "56270d4d",
   "metadata": {},
   "outputs": [
    {
     "name": "stdout",
     "output_type": "stream",
     "text": [
      "[840, 12766, 30, 1940, 17876, 1897, 17, 4119, 2, 10660, 5539, 5313, 3284, 106, 8757, 5539, 5313, 12484, 15, 11, 20229, 504, 3, 840, 16, 4001, 41, 2559, 6, 7957, 4101, 8280, 2192, 3, 24121, 41, 8117, 41, 2, 28, 4577, 208, 6, 226, 16, 21, 48851, 30, 173, 6, 89, 7957, 4194, 3832, 7581, 4377, 1274, 173, 11, 4058, 571, 141, 5686, 1757, 2, 7, 28860, 4577, 60, 2, 28, 26, 223, 4732, 16, 1062, 6, 4481, 7957, 3, 5609, 79, 35322, 465, 10499, 1027, 7, 17591, 70, 15018, 2632, 7, 26610, 16756, 121, 2, 7, 2700, 3164, 1940, 2, 7, 3556, 2029, 4029, 8869, 3, 840, 2501, 1940, 7, 3556, 2029, 4029, 3091, 15018, 53, 2, 28, 482, 17153, 6, 89, 51662, 4590, 7, 28, 0]\n"
     ]
    }
   ],
   "source": [
    "#{'input_ids': [[393, 4462, 14, 1137, 53, 216, 28636, 0], [24385, 14, 28636, 14, 4646, 4622, 53, 216, 28636, 0]], 'attention_mask': [[1, 1, 1, 1, 1, 1, 1, 1], [1, 1, 1, 1, 1, 1, 1, 1, 1, 1]], 'labels': [[42140, 494, 1750, 53, 8, 59, 903, 3543, 9, 15202, 0], [36199, 6612, 9, 15202, 122, 568, 35788, 21549, 53, 8, 59, 903, 3543, 9, 15202, 0]]}\n",
    "print(tokenized_datasets['train']['input_ids'][0])#['train']['translation'][0])#['input_ids'][0])\n"
   ]
  },
  {
   "cell_type": "code",
   "execution_count": 89,
   "id": "6903e93c",
   "metadata": {},
   "outputs": [],
   "source": [
    "trainer = Seq2SeqTrainer(\n",
    "    model,\n",
    "    args,\n",
    "    #train_dataset=list(tokenized_datasets[\"train\"]),\n",
    "    #eval_dataset=list(tokenized_datasets[\"validation\"]),\n",
    "    train_dataset=tokenized_datasets[\"train\"],\n",
    "    eval_dataset=tokenized_datasets[\"validation\"],\n",
    "    data_collator=data_collator,\n",
    "    tokenizer=tokenizer,\n",
    "    compute_metrics=compute_metrics\n",
    ")"
   ]
  },
  {
   "cell_type": "code",
   "execution_count": 90,
   "id": "537320ee",
   "metadata": {},
   "outputs": [
    {
     "name": "stderr",
     "output_type": "stream",
     "text": [
      "The following columns in the training set don't have a corresponding argument in `MarianMTModel.forward` and have been ignored: translation. If translation are not expected by `MarianMTModel.forward`,  you can safely ignore this message.\n",
      "***** Running training *****\n",
      "  Num examples = 1\n",
      "  Num Epochs = 1\n",
      "  Instantaneous batch size per device = 16\n",
      "  Total train batch size (w. parallel, distributed & accumulation) = 16\n",
      "  Gradient Accumulation steps = 1\n",
      "  Total optimization steps = 1\n",
      "  Number of trainable parameters = 76147712\n"
     ]
    },
    {
     "data": {
      "text/html": [
       "\n",
       "    <div>\n",
       "      \n",
       "      <progress value='1' max='1' style='width:300px; height:20px; vertical-align: middle;'></progress>\n",
       "      [1/1 00:11, Epoch 1/1]\n",
       "    </div>\n",
       "    <table border=\"1\" class=\"dataframe\">\n",
       "  <thead>\n",
       " <tr style=\"text-align: left;\">\n",
       "      <th>Epoch</th>\n",
       "      <th>Training Loss</th>\n",
       "      <th>Validation Loss</th>\n",
       "      <th>Bleu</th>\n",
       "      <th>Gen Len</th>\n",
       "    </tr>\n",
       "  </thead>\n",
       "  <tbody>\n",
       "    <tr>\n",
       "      <td>1</td>\n",
       "      <td>No log</td>\n",
       "      <td>1.870704</td>\n",
       "      <td>28.804000</td>\n",
       "      <td>120.000000</td>\n",
       "    </tr>\n",
       "  </tbody>\n",
       "</table><p>"
      ],
      "text/plain": [
       "<IPython.core.display.HTML object>"
      ]
     },
     "metadata": {},
     "output_type": "display_data"
    },
    {
     "name": "stderr",
     "output_type": "stream",
     "text": [
      "The following columns in the evaluation set don't have a corresponding argument in `MarianMTModel.forward` and have been ignored: translation. If translation are not expected by `MarianMTModel.forward`,  you can safely ignore this message.\n",
      "***** Running Evaluation *****\n",
      "  Num examples = 1\n",
      "  Batch size = 16\n",
      "\n",
      "\n",
      "Training completed. Do not forget to share your model on huggingface.co/models =)\n",
      "\n",
      "\n"
     ]
    },
    {
     "data": {
      "text/plain": [
       "TrainOutput(global_step=1, training_loss=2.946575164794922, metrics={'train_runtime': 14.3573, 'train_samples_per_second': 0.07, 'train_steps_per_second': 0.07, 'total_flos': 33898364928.0, 'train_loss': 2.946575164794922, 'epoch': 1.0})"
      ]
     },
     "execution_count": 90,
     "metadata": {},
     "output_type": "execute_result"
    }
   ],
   "source": [
    "trainer.train()"
   ]
  },
  {
   "cell_type": "code",
   "execution_count": 48,
   "id": "e345792c",
   "metadata": {},
   "outputs": [
    {
     "name": "stderr",
     "output_type": "stream",
     "text": [
      "Saving model checkpoint to model-checkpoint\n",
      "Configuration saved in model-checkpoint\\config.json\n",
      "Model weights saved in model-checkpoint\\pytorch_model.bin\n",
      "tokenizer config file saved in model-checkpoint\\tokenizer_config.json\n",
      "Special tokens file saved in model-checkpoint\\special_tokens_map.json\n"
     ]
    }
   ],
   "source": [
    "directory = \"model-checkpoint\"\n",
    "trainer.save_model(directory)"
   ]
  },
  {
   "cell_type": "code",
   "execution_count": null,
   "id": "6eae9a76",
   "metadata": {},
   "outputs": [],
   "source": [
    "for dirname, _, filenames in os.walk('opus-mt-en-ro-finetuned-en-to-ro'):\n",
    "    for filename in filenames:\n",
    "        print(os.path.join(dirname, filename))"
   ]
  },
  {
   "cell_type": "code",
   "execution_count": 91,
   "id": "160b1c54",
   "metadata": {},
   "outputs": [
    {
     "name": "stdout",
     "output_type": "stream",
     "text": [
      "[]\n"
     ]
    }
   ],
   "source": [
    "#from transformers import MarianMTModel, MarianTokenizer\n",
    "#src_text = ['My name is Sarah and I live in London']\n",
    "src_text = ['А вера — не вера — я не знаю, что это такое, — но чувство это так же незаметно вошло страданиями и твердо засело в душе.']\n",
    "#model_name = 'opus-mt-en-ro-finetuned-en-to-ro/checkpoint-38000'\n",
    "#tokenizer = MarianTokenizer.from_pretrained(model_name)\n",
    "print(tokenizer.supported_language_codes)"
   ]
  },
  {
   "cell_type": "code",
   "execution_count": 92,
   "id": "00f66a80",
   "metadata": {},
   "outputs": [
    {
     "data": {
      "text/plain": [
       "[\"And faith — not faith — I don't know what it is, but the feeling of it has also gone undetected by suffering and is firmly rooted in the soul.\"]"
      ]
     },
     "execution_count": 92,
     "metadata": {},
     "output_type": "execute_result"
    }
   ],
   "source": [
    "#model = MarianMTModel.from_pretrained(model_name)\n",
    "translated = model.generate(**tokenizer(src_text, return_tensors=\"pt\", padding=True))\n",
    "[tokenizer.decode(t, skip_special_tokens=True) for t in translated]"
   ]
  },
  {
   "cell_type": "code",
   "execution_count": null,
   "id": "2a317095",
   "metadata": {},
   "outputs": [],
   "source": [
    "#https://stackoverflow.com/questions/10377998/how-can-i-iterate-over-files-in-a-given-directory\n",
    "max_input_length = 128\n",
    "directory = \"russian short stories\"\n",
    "#directory = \"test translation\"\n",
    "files = [\"Сказка о лысом пророке Елисее chiornyi.txt\"]\n",
    "#for file in os.listdir(directory):\n",
    "for file in files:\n",
    "    filename = os.fsdecode(file)\n",
    "    if filename.endswith(\".txt\"):\n",
    "        parsefile(directory, filename, \"tuned translations\")"
   ]
  },
  {
   "cell_type": "code",
   "execution_count": null,
   "id": "2eb2343a",
   "metadata": {},
   "outputs": [],
   "source": []
  },
  {
   "cell_type": "code",
   "execution_count": null,
   "id": "5275f6ee",
   "metadata": {},
   "outputs": [],
   "source": []
  },
  {
   "cell_type": "code",
   "execution_count": 97,
   "id": "f7d1f519",
   "metadata": {},
   "outputs": [
    {
     "name": "stderr",
     "output_type": "stream",
     "text": [
      "loading file spiece.model from cache at C:\\Users\\ewu15/.cache\\huggingface\\hub\\models--google--mt5-base\\snapshots\\2eb15465c5dd7f72a8f7984306ad05ebc3dd1e1f\\spiece.model\n",
      "loading file added_tokens.json from cache at None\n",
      "loading file special_tokens_map.json from cache at C:\\Users\\ewu15/.cache\\huggingface\\hub\\models--google--mt5-base\\snapshots\\2eb15465c5dd7f72a8f7984306ad05ebc3dd1e1f\\special_tokens_map.json\n",
      "loading file tokenizer_config.json from cache at C:\\Users\\ewu15/.cache\\huggingface\\hub\\models--google--mt5-base\\snapshots\\2eb15465c5dd7f72a8f7984306ad05ebc3dd1e1f\\tokenizer_config.json\n",
      "loading configuration file config.json from cache at C:\\Users\\ewu15/.cache\\huggingface\\hub\\models--google--mt5-base\\snapshots\\2eb15465c5dd7f72a8f7984306ad05ebc3dd1e1f\\config.json\n",
      "Model config MT5Config {\n",
      "  \"_name_or_path\": \"google/mt5-base\",\n",
      "  \"architectures\": [\n",
      "    \"MT5ForConditionalGeneration\"\n",
      "  ],\n",
      "  \"d_ff\": 2048,\n",
      "  \"d_kv\": 64,\n",
      "  \"d_model\": 768,\n",
      "  \"decoder_start_token_id\": 0,\n",
      "  \"dense_act_fn\": \"gelu_new\",\n",
      "  \"dropout_rate\": 0.1,\n",
      "  \"eos_token_id\": 1,\n",
      "  \"feed_forward_proj\": \"gated-gelu\",\n",
      "  \"initializer_factor\": 1.0,\n",
      "  \"is_encoder_decoder\": true,\n",
      "  \"is_gated_act\": true,\n",
      "  \"layer_norm_epsilon\": 1e-06,\n",
      "  \"model_type\": \"mt5\",\n",
      "  \"num_decoder_layers\": 12,\n",
      "  \"num_heads\": 12,\n",
      "  \"num_layers\": 12,\n",
      "  \"output_past\": true,\n",
      "  \"pad_token_id\": 0,\n",
      "  \"relative_attention_max_distance\": 128,\n",
      "  \"relative_attention_num_buckets\": 32,\n",
      "  \"tie_word_embeddings\": false,\n",
      "  \"tokenizer_class\": \"T5Tokenizer\",\n",
      "  \"transformers_version\": \"4.24.0\",\n",
      "  \"use_cache\": true,\n",
      "  \"vocab_size\": 250112\n",
      "}\n",
      "\n",
      "loading configuration file config.json from cache at C:\\Users\\ewu15/.cache\\huggingface\\hub\\models--google--mt5-base\\snapshots\\2eb15465c5dd7f72a8f7984306ad05ebc3dd1e1f\\config.json\n",
      "You are using a model of type mt5 to instantiate a model of type t5. This is not supported for all configurations of models and can yield errors.\n",
      "Model config T5Config {\n",
      "  \"_name_or_path\": \"/home/patrick/hugging_face/t5/mt5-base\",\n",
      "  \"architectures\": [\n",
      "    \"MT5ForConditionalGeneration\"\n",
      "  ],\n",
      "  \"d_ff\": 2048,\n",
      "  \"d_kv\": 64,\n",
      "  \"d_model\": 768,\n",
      "  \"decoder_start_token_id\": 0,\n",
      "  \"dense_act_fn\": \"gelu_new\",\n",
      "  \"dropout_rate\": 0.1,\n",
      "  \"eos_token_id\": 1,\n",
      "  \"feed_forward_proj\": \"gated-gelu\",\n",
      "  \"initializer_factor\": 1.0,\n",
      "  \"is_encoder_decoder\": true,\n",
      "  \"is_gated_act\": true,\n",
      "  \"layer_norm_epsilon\": 1e-06,\n",
      "  \"model_type\": \"t5\",\n",
      "  \"num_decoder_layers\": 12,\n",
      "  \"num_heads\": 12,\n",
      "  \"num_layers\": 12,\n",
      "  \"output_past\": true,\n",
      "  \"pad_token_id\": 0,\n",
      "  \"relative_attention_max_distance\": 128,\n",
      "  \"relative_attention_num_buckets\": 32,\n",
      "  \"tie_word_embeddings\": false,\n",
      "  \"tokenizer_class\": \"T5Tokenizer\",\n",
      "  \"transformers_version\": \"4.24.0\",\n",
      "  \"use_cache\": true,\n",
      "  \"vocab_size\": 250112\n",
      "}\n",
      "\n",
      "loading weights file pytorch_model.bin from cache at C:\\Users\\ewu15/.cache\\huggingface\\hub\\models--google--mt5-base\\snapshots\\2eb15465c5dd7f72a8f7984306ad05ebc3dd1e1f\\pytorch_model.bin\n",
      "All model checkpoint weights were used when initializing T5ForConditionalGeneration.\n",
      "\n",
      "All the weights of T5ForConditionalGeneration were initialized from the model checkpoint at google/mt5-base.\n",
      "If your task is similar to the task the model of the checkpoint was trained on, you can already use T5ForConditionalGeneration for predictions without further training.\n"
     ]
    }
   ],
   "source": [
    "#model = T5ForConditionalGeneration.from_pretrained('t5-base')\n",
    "#tokenizer = T5Tokenizer.from_pretrained('t5-base')\n",
    "tokenizer = T5Tokenizer.from_pretrained(\"google/mt5-base\")\n",
    "model = T5ForConditionalGeneration.from_pretrained('google/mt5-base')"
   ]
  },
  {
   "cell_type": "code",
   "execution_count": 96,
   "id": "6095f366",
   "metadata": {},
   "outputs": [
    {
     "name": "stdout",
     "output_type": "stream",
     "text": [
      "<pad> <extra_id_0> The quick brown...</s>\n"
     ]
    }
   ],
   "source": [
    "text = \"translate English to French: The quick brown fox jumps over the lazy dog\"\n",
    "\n",
    "# Tokenize the input\n",
    "inputs = tokenizer.encode(text, return_tensors='pt')\n",
    "\n",
    "# Generate translation\n",
    "outputs = model.generate(inputs, max_length=40, num_beams=4, early_stopping=True)\n",
    "\n",
    "# Decode the output\n",
    "translated_text = tokenizer.decode(outputs[0])\n",
    "print(translated_text)"
   ]
  },
  {
   "cell_type": "code",
   "execution_count": 94,
   "id": "4f7b91c8",
   "metadata": {},
   "outputs": [
    {
     "name": "stdout",
     "output_type": "stream",
     "text": [
      "<pad> <extra_id_0>. )</s>\n"
     ]
    }
   ],
   "source": [
    "text = \"translate Russian to English: А вера — не вера — я не знаю\"\n",
    "inputs = tokenizer.encode(text, return_tensors='pt')\n",
    "outputs = model.generate(inputs, max_length=40, num_beams=4, early_stopping=True)\n",
    "translated_text = tokenizer.decode(outputs[0])\n",
    "\n",
    "print(translated_text)"
   ]
  },
  {
   "cell_type": "code",
   "execution_count": 98,
   "id": "ea147f6f",
   "metadata": {},
   "outputs": [
    {
     "name": "stdout",
     "output_type": "stream",
     "text": [
      "0.32981729710484153\n",
      "0.32981729710484153\n"
     ]
    }
   ],
   "source": [
    "def msize(m):\n",
    "    return sum(p.numel() for p in m.parameters())\n",
    "print(msize(model.shared) / msize(model))   # 0.3298\n",
    "print(msize(model.lm_head) / msize(model))  # 0.3298"
   ]
  },
  {
   "cell_type": "code",
   "execution_count": 99,
   "id": "f5e67b04",
   "metadata": {},
   "outputs": [
    {
     "data": {
      "application/vnd.jupyter.widget-view+json": {
       "model_id": "4eac8d9759994d48b540e6ec204ea1cc",
       "version_major": 2,
       "version_minor": 0
      },
      "text/plain": [
       "  0%|          | 0/10000 [00:00<?, ?it/s]"
      ]
     },
     "metadata": {},
     "output_type": "display_data"
    },
    {
     "name": "stdout",
     "output_type": "stream",
     "text": [
      "16528 0.06608556577369053\n"
     ]
    }
   ],
   "source": [
    "df_ru = pd.read_csv('rus-ru_web-public_2019_10K-sentences.txt', sep='\\t', header=None, quoting=csv.QUOTE_NONE)\n",
    "df_ru.columns = ['idx', 'text']\n",
    "cnt_ru = Counter()\n",
    "for text in tqdm(df_ru.text):\n",
    "    cnt_ru.update(tokenizer.encode(text))\n",
    "print(len(cnt_ru), len(cnt_ru)/tokenizer.vocab_size)  \n",
    "# 58438 0.2336"
   ]
  },
  {
   "cell_type": "code",
   "execution_count": 100,
   "id": "8bff7cb3",
   "metadata": {},
   "outputs": [
    {
     "name": "stdout",
     "output_type": "stream",
     "text": [
      "1000 0.7193085003902258\n",
      "2000 0.7999464460067988\n",
      "3000 0.8492389781636859\n"
     ]
    }
   ],
   "source": [
    "for top in 1000, 2000, 3000:\n",
    "    print(top, sum(v for k, v in cnt_ru.most_common(top)) / sum(cnt_ru.values()))\n",
    "# 10000 0.9645\n",
    "# 20000 0.9940\n",
    "# 30000 0.9982"
   ]
  },
  {
   "cell_type": "code",
   "execution_count": 101,
   "id": "8c10ee09",
   "metadata": {},
   "outputs": [
    {
     "name": "stdout",
     "output_type": "stream",
     "text": [
      "17332\n"
     ]
    }
   ],
   "source": [
    "cnt_en = Counter()\n",
    "\n",
    "new_tokens = set(range(1000))\n",
    "for i, (k, v) in enumerate(cnt_en.most_common(10_000)):\n",
    "    if k not in new_tokens:\n",
    "        new_tokens.add(k)\n",
    "for i, (k, v) in enumerate(cnt_ru.most_common(25_000)):\n",
    "    if len(new_tokens) == 29_900:\n",
    "        print(i, 'Russan tokens are included')\n",
    "        break\n",
    "    if k not in new_tokens:\n",
    "        new_tokens.add(k)\n",
    "for t in range(tokenizer.vocab_size - 100, tokenizer.vocab_size):\n",
    "    new_tokens.add(t)\n",
    "print(len(new_tokens))\n",
    "kept_ids = sorted(new_tokens)"
   ]
  },
  {
   "cell_type": "code",
   "execution_count": 102,
   "id": "b054c480",
   "metadata": {},
   "outputs": [],
   "source": [
    "new_size = len(kept_ids)\n",
    "new_emb = torch.nn.Embedding(new_size, model.shared.embedding_dim)\n",
    "new_head = torch.nn.Linear(in_features=model.lm_head.in_features, out_features=new_size, bias=False)\n",
    "for new_id, old_id in enumerate(kept_ids):\n",
    "    new_emb.weight.data[new_id] = model.shared.weight.data[old_id]\n",
    "    new_head.weight.data[new_id] = model.lm_head.weight.data[old_id]\n",
    "model.shared.weight = new_emb.weight\n",
    "model.lm_head.weight = new_head.weight\n",
    "model.config.__dict__['vocab_size'] = new_size\n",
    "model.config.__dict__['_name_or_path'] = 'cointegrated/rut5-base'"
   ]
  },
  {
   "cell_type": "code",
   "execution_count": null,
   "id": "b486488b",
   "metadata": {},
   "outputs": [],
   "source": [
    "smp = tokenizer.sp_model.serialized_model_proto()\n",
    "m = spmp.ModelProto()\n",
    "m.ParseFromString(smp)\n",
    "print('the loaded model has pieces:', len(m.pieces))\n",
    "new_pieces = [m.pieces[idx] for idx in kept_ids]\n",
    "print('the new pieces:', len(new_pieces))\n",
    "# replace the content of the first 30K pieces\n",
    "for i, p in enumerate(new_pieces):\n",
    "    m.pieces[i].piece = p.piece\n",
    "    m.pieces[i].score = p.score\n",
    "    m.pieces[i].type = p.type\n",
    "# drop the remaining pieces\n",
    "n = len(new_pieces)\n",
    "for i in trange(len(m.pieces) - n):\n",
    "    m.pieces.pop(len(m.pieces) - 1)\n",
    "print(len(m.pieces))\n",
    "with open('new_sp.model', 'wb') as f:\n",
    "    f.write(m.SerializeToString())\n",
    "new_tokenizer = T5Tokenizer('new_sp.model', extra_ids=0)"
   ]
  },
  {
   "cell_type": "code",
   "execution_count": null,
   "id": "6aef489f",
   "metadata": {},
   "outputs": [],
   "source": [
    "new_tokenizer.save_pretrained('rut5-base')\n",
    "model.save_pretrained('rut5-base')"
   ]
  },
  {
   "cell_type": "code",
   "execution_count": null,
   "id": "46333d87",
   "metadata": {},
   "outputs": [],
   "source": []
  },
  {
   "cell_type": "code",
   "execution_count": null,
   "id": "9f52cc24",
   "metadata": {},
   "outputs": [],
   "source": [
    "#google translations done manually. bing translation done similarly"
   ]
  },
  {
   "cell_type": "code",
   "execution_count": null,
   "id": "167399e9",
   "metadata": {},
   "outputs": [],
   "source": [
    "#https://stackoverflow.com/questions/10377998/how-can-i-iterate-over-files-in-a-given-directory\n",
    "max_input_length = 128\n",
    "directory = \"russian short stories\"\n",
    "directory = \"test translation\"\n",
    "for file in os.listdir(directory):\n",
    "    filename = os.fsdecode(file)\n",
    "    if filename.endswith(\".txt\"):\n",
    "        file = open(f\"{directory}/{filename}\", encoding=\"utf8\")\n",
    "        txt = file.read()\n",
    "        file.close() \n",
    "        split = txt.split(\".\")\n",
    "        #might need to break text into sentences due to model's limits\n",
    "        #tokens = tokenizer(txt, return_tensors=\"pt\", padding=True, max_length=max_input_length, truncation=True)\n",
    "        tokens = tokenizer(split, return_tensors=\"pt\", padding=True, max_length=max_input_length, truncation=True)\n",
    "        #print(tokens['input_ids'][:20])\n",
    "        #print(tokens)\n",
    "        translated = model.generate(**tokens)\n",
    "        #translated = [tokenizer.decode(t, skip_special_tokens=True) for t in translated]\n",
    "                #print(translated)\n",
    "                #whole += translated[0]\n",
    "        print(translated.shape)\n",
    "        output = codecs.open(f\"init translations/{filename}\", 'a', \"utf-8\")\n",
    "        \n",
    "        translation = [tokenizer.decode(t, skip_special_tokens=True) for t in translated]\n",
    "        #print(len(translation))\n",
    "        for string in translation:\n",
    "            output.write(string)\n",
    "            print(string)\n",
    "        #for i in range(int(translated.shape[1] / 20)):\n",
    "            #translation = [tokenizer.decode(t, skip_special_tokens=True) for t in translated[i * 20 : i * 20 + 20]][0]\n",
    "        #print(translation)\n",
    "        #print(filename)\n",
    "            #output.write(translation)\n",
    "        #if (translated.shape[1] % 20 != 0):\n",
    "            #last = int(translated.shape[1] / 20)\n",
    "            #translation = [tokenizer.decode(t, skip_special_tokens=True) for t in translated[last * 20 :]][0]\n",
    "        output.close()"
   ]
  },
  {
   "cell_type": "code",
   "execution_count": 41,
   "id": "10a1b813",
   "metadata": {},
   "outputs": [
    {
     "ename": "IndentationError",
     "evalue": "unexpected indent (1361443166.py, line 23)",
     "output_type": "error",
     "traceback": [
      "\u001b[1;36m  Cell \u001b[1;32mIn[41], line 23\u001b[1;36m\u001b[0m\n\u001b[1;33m    entrains.append(entrain)\u001b[0m\n\u001b[1;37m    ^\u001b[0m\n\u001b[1;31mIndentationError\u001b[0m\u001b[1;31m:\u001b[0m unexpected indent\n"
     ]
    }
   ],
   "source": [
    "first_loc = \"rutest.txt\"\n",
    "second_loc = \"engtest.txt\"\n",
    "#open it with utf-8 encoding \n",
    "f = codecs.open(first_loc,\"r\",encoding='utf-8')\n",
    "#read the file to unicode string\n",
    "rutrain = f.read()\n",
    "f.close()\n",
    "f = codecs.open(second_loc,\"r\",encoding='utf-8')\n",
    "#read the file to unicode string\n",
    "entrain = f.read()\n",
    "f.close()\n",
    "#print(rutext)\n",
    "raw_datasets = {}\n",
    "train_entries = []\n",
    "entry = {}\n",
    "translation = {}\n",
    "rutrains = []\n",
    "entrains = []\n",
    "#for ensource in ensources:\n",
    "f = codecs.open(ensource,\"r\",encoding='utf-8')\n",
    "entrain = f.read()\n",
    "f.close()\n",
    "    entrains.append(entrain)\n",
    "for rusource in rusources:\n",
    "    f = codecs.open(rusource,\"r\",encoding='utf-8')\n",
    "    rutrain = f.read()\n",
    "    f.close()\n",
    "    rutrains.append(rutrain)\n",
    "translation[\"ru\"] = rutrains\n",
    "translation[\"en\"] = entrains\n",
    "#entry[\"translation\"] = translation\n",
    "entry = translation\n",
    "train_entries.append(entry)\n",
    "raw_datasets[\"train\"] = train_entries"
   ]
  },
  {
   "cell_type": "code",
   "execution_count": null,
   "id": "5c972c53",
   "metadata": {},
   "outputs": [],
   "source": [
    "#https://stackoverflow.com/questions/10376923/reading-non-ascii-characters-from-a-text-file\n",
    "#will need to do for all texts which include anna karenina, crime and punishment, the brothers\n",
    "first_loc = \"anna karenina ru.txt\"\n",
    "second_loc = \"anna karenina translaated by constance garnett.txt\"\n",
    "f = codecs.open(first_loc,\"r\",encoding='utf-8')\n",
    "rutext = f.read()\n",
    "f.close()\n",
    "f = codecs.open(second_loc,\"r\",encoding='utf-8')\n",
    "entext = f.read()\n",
    "f.close()\n",
    "#anna karenina has several parts each with chapters en prefaced by chapter 1 while russian is in roman numerals\n",
    "#we try to send both as entire batches for now?\n",
    "raw_datasets = {}\n",
    "train_entries = []\n",
    "entry = {}\n",
    "translation = {}\n",
    "translation[\"ru\"] = rutext\n",
    "translation[\"en\"] = entext\n",
    "#entry[\"translation\"] = translation\n",
    "entry = translation\n",
    "train_entries.append(entry)\n",
    "raw_datasets[\"train\"] = train_entries\n"
   ]
  },
  {
   "cell_type": "code",
   "execution_count": null,
   "id": "027f8f5d",
   "metadata": {},
   "outputs": [],
   "source": [
    "raw_datasets = {}\n",
    "train_entries = []\n",
    "entry = {}\n",
    "translation = {}\n",
    "pairs = [[\"crime and punishment ru.txt\", \"crime and punishment constance garnett.txt\"], \n",
    "         [\"the brothers karamazov ru.txt\", \"the brothers karamazov constance garnett.txt\"]]\n",
    "for combination in pairs:\n",
    "    first_loc = combination[0]\n",
    "    second_loc = combination[1]\n",
    "    f = codecs.open(first_loc,\"r\",encoding='utf-8')\n",
    "    #read the file to unicode string\n",
    "    rutrain = f.read()\n",
    "    f.close()\n",
    "    f = codecs.open(second_loc,\"r\",encoding='utf-8')\n",
    "    entrain = f.read()\n",
    "    f.close()\n",
    "    translation[\"ru\"] = rutrain\n",
    "    translation[\"en\"] = entrain\n",
    "    train_entries.append(translation)\n",
    "entry['translation'] = train_entries\n",
    "raw_datasets[\"train\"] = entry"
   ]
  },
  {
   "cell_type": "code",
   "execution_count": null,
   "id": "c9735ba5",
   "metadata": {},
   "outputs": [],
   "source": [
    "prefix = \"\"\n",
    "max_input_length = 128\n",
    "max_target_length = 128\n",
    "source_lang = \"ru\"\n",
    "target_lang = \"en\"\n",
    "def preprocess_function(examples):\n",
    "    inputs = [prefix + ex[source_lang] for ex in examples[\"translation\"]]\n",
    "    targets = [ex[target_lang] for ex in examples[\"translation\"]]\n",
    "    model_inputs = tokenizer(inputs, max_length=max_input_length, truncation=True)\n",
    "    # Setup the tokenizer for targets\n",
    "    with tokenizer.as_target_tokenizer():\n",
    "        labels = tokenizer(targets, max_length=max_target_length, truncation=True)\n",
    "    model_inputs[\"labels\"] = labels[\"input_ids\"]\n",
    "    return model_inputs"
   ]
  },
  {
   "cell_type": "code",
   "execution_count": null,
   "id": "e81a1f2b",
   "metadata": {},
   "outputs": [],
   "source": [
    "#print(raw_datasets['train'][0])\n",
    "#preprocess_function(raw_datasets['train'][0])\n",
    "#tokenized_datasets = raw_datasets['train'].map(preprocess_function, batched=True)\n",
    "#wrong\n",
    "tokenized_datasets = {}\n",
    "tokenized_datasets['train'] = preprocess_function(raw_datasets['train'])#, batched=True)\n",
    "tokenized_datasets['validation'] = preprocess_function(raw_datasets['validation'])"
   ]
  }
 ],
 "metadata": {
  "kernelspec": {
   "display_name": "Python 3 (ipykernel)",
   "language": "python",
   "name": "python3"
  },
  "language_info": {
   "codemirror_mode": {
    "name": "ipython",
    "version": 3
   },
   "file_extension": ".py",
   "mimetype": "text/x-python",
   "name": "python",
   "nbconvert_exporter": "python",
   "pygments_lexer": "ipython3",
   "version": "3.8.16"
  }
 },
 "nbformat": 4,
 "nbformat_minor": 5
}
